{
 "cells": [
  {
   "cell_type": "markdown",
   "id": "ba667a7b",
   "metadata": {},
   "source": [
    "# Notebook 2\n",
    "\n",
    "***"
   ]
  },
  {
   "cell_type": "markdown",
   "id": "cc1d0c75",
   "metadata": {},
   "source": [
    "https://numpy.org/doc/stable/user/whatisnumpy.html"
   ]
  },
  {
   "cell_type": "code",
   "execution_count": 2,
   "id": "f2ceb98c",
   "metadata": {},
   "outputs": [],
   "source": [
    "# Efficient numercial arrays.\n",
    "import numpy as np"
   ]
  },
  {
   "cell_type": "code",
   "execution_count": null,
   "id": "9bdf63d1",
   "metadata": {},
   "outputs": [],
   "source": []
  }
 ],
 "metadata": {
  "kernelspec": {
   "display_name": "Python 3 (ipykernel)",
   "language": "python",
   "name": "python3"
  },
  "language_info": {
   "codemirror_mode": {
    "name": "ipython",
    "version": 3
   },
   "file_extension": ".py",
   "mimetype": "text/x-python",
   "name": "python",
   "nbconvert_exporter": "python",
   "pygments_lexer": "ipython3",
   "version": "3.9.12"
  }
 },
 "nbformat": 4,
 "nbformat_minor": 5
}
